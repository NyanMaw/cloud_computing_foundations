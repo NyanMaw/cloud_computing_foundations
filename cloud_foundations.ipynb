{
  "nbformat": 4,
  "nbformat_minor": 0,
  "metadata": {
    "colab": {
      "provenance": [],
      "authorship_tag": "ABX9TyPrxXRVgN2PgGRCVfR4Iqhk",
      "include_colab_link": true
    },
    "kernelspec": {
      "name": "python3",
      "display_name": "Python 3"
    },
    "language_info": {
      "name": "python"
    }
  },
  "cells": [
    {
      "cell_type": "markdown",
      "metadata": {
        "id": "view-in-github",
        "colab_type": "text"
      },
      "source": [
        "<a href=\"https://colab.research.google.com/github/NyanMaw/cloud_computing_foundations/blob/main/cloud_foundations.ipynb\" target=\"_parent\"><img src=\"https://colab.research.google.com/assets/colab-badge.svg\" alt=\"Open In Colab\"/></a>"
      ]
    },
    {
      "cell_type": "code",
      "execution_count": 2,
      "metadata": {
        "colab": {
          "base_uri": "https://localhost:8080/"
        },
        "id": "yeXSf__Eapyt",
        "outputId": "2672e832-1d00-40a2-b469-bbc2181ccc75"
      },
      "outputs": [
        {
          "output_type": "stream",
          "name": "stdout",
          "text": [
            "hello world\n"
          ]
        }
      ],
      "source": [
        "print(\"hello world\")"
      ]
    },
    {
      "cell_type": "markdown",
      "source": [
        "# This is a Title\n",
        "* list item 1\n",
        "* list item 2\n",
        "\n"
      ],
      "metadata": {
        "id": "qk6XwYyPbhkX"
      }
    },
    {
      "cell_type": "code",
      "source": [],
      "metadata": {
        "id": "27bGZ1ZvbrRG"
      },
      "execution_count": null,
      "outputs": []
    }
  ]
}